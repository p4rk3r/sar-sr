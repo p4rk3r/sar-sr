{
 "cells": [
  {
   "cell_type": "markdown",
   "id": "72f56717",
   "metadata": {},
   "source": [
    "### Show the best iteration"
   ]
  },
  {
   "cell_type": "code",
   "execution_count": 1,
   "id": "dddfd9ba",
   "metadata": {},
   "outputs": [],
   "source": [
    "# import library\n",
    "import glob\n",
    "from tensorboard.backend.event_processing.event_accumulator import EventAccumulator"
   ]
  },
  {
   "cell_type": "code",
   "execution_count": 4,
   "id": "05c32555",
   "metadata": {},
   "outputs": [],
   "source": [
    "# define setting\n",
    "timestamp = '20211227-153638'\n",
    "tb_path = '/home/vit134/vit/sar_sr/log/*/*' + timestamp\n",
    "tb_path = glob.glob(tb_path + '/*')[0]\n",
    "\n",
    "event_acc = EventAccumulator(tb_path, size_guidance={'scalars': 0})\n",
    "event_acc.Reload()\n",
    "\n",
    "scalars = {}\n",
    "for tag in event_acc.Tags()['scalars']:\n",
    "    events = event_acc.Scalars(tag)\n",
    "    scalars[tag] = [event.value for event in events]"
   ]
  },
  {
   "cell_type": "code",
   "execution_count": 5,
   "id": "5634f22d",
   "metadata": {},
   "outputs": [],
   "source": [
    "# confirm validation interval\n",
    "val_interval = 250"
   ]
  },
  {
   "cell_type": "code",
   "execution_count": 6,
   "id": "e9e2ba80",
   "metadata": {
    "scrolled": false
   },
   "outputs": [
    {
     "name": "stdout",
     "output_type": "stream",
     "text": [
      "val_psnr: [363, 359, 343, 343, 399, 393, 358, 402, 421, 431]\n",
      "val_ssim: [419, 331, 528, 337, 461, 323, 474, 444, 367, 458]\n",
      "double: \n",
      "val_psnr\n",
      " 1  90750 [363]: 22.877474  0.594139\n",
      " 2  89750 [359]: 22.877399  0.594874\n",
      " 3  85750 [343]: 22.877274  0.594633\n",
      " 4  85750 [343]: 22.877274  0.594633\n",
      " 5  99750 [399]: 22.877254  0.594627\n",
      " 6  98250 [393]: 22.877243  0.594909\n",
      " 7  89500 [358]: 22.877203  0.595007\n",
      " 8  100500 [402]: 22.877197  0.594413\n",
      " 9  105250 [421]: 22.877125  0.594586\n",
      "10  107750 [431]: 22.877119  0.594654\n",
      "\n",
      "val_ssim\n",
      " 1  104750 [419]: 22.875925  0.595282\n",
      " 2  82750 [331]: 22.876768  0.595198\n",
      " 3  132000 [528]: 22.873371  0.595185\n",
      " 4  84250 [337]: 22.875443  0.595146\n",
      " 5  115250 [461]: 22.876598  0.595077\n",
      " 6  80750 [323]: 22.875162  0.595062\n",
      " 7  118500 [474]: 22.875576  0.595055\n",
      " 8  111000 [444]: 22.875437  0.595044\n",
      " 9  91750 [367]: 22.876280  0.595035\n",
      "10  114500 [458]: 22.874327  0.595035\n"
     ]
    }
   ],
   "source": [
    "# show the best iteration\n",
    "psnrs = sorted(scalars['val_psnr'], reverse=True)\n",
    "ssims = sorted(scalars['val_ssim'], reverse=True)\n",
    "\n",
    "top = 10\n",
    "\n",
    "maxs = {'val_psnr': psnrs[:top], 'val_ssim': ssims[:top]}\n",
    "\n",
    "indexs = {'val_psnr': [0 for _ in range(top)], 'val_ssim': [0 for _ in range(top)]}\n",
    "\n",
    "for key in indexs.keys():\n",
    "    for i in range(top):\n",
    "        indexs[key][i] = scalars[key].index(maxs[key][i])\n",
    "\n",
    "print('val_psnr: {}'.format(indexs['val_psnr']))\n",
    "print('val_ssim: {}'.format(indexs['val_ssim']))\n",
    "\n",
    "print('double: ', end='')\n",
    "for i in indexs['val_psnr']:\n",
    "    print('{} '.format(i) if i in indexs['val_ssim'] else '', end='')\n",
    "\n",
    "for key in indexs.keys():\n",
    "    print('\\n{}'.format(key))\n",
    "    for i in range(top):\n",
    "        index = indexs[key][i]\n",
    "        print('{i:2}  {step:3} [{index}]: {psnr:.6f}  {ssim:.6f}'.format(\n",
    "            i=i+1, step=val_interval * index, index=index, psnr=scalars['val_psnr'][index], ssim=scalars['val_ssim'][index]))"
   ]
  },
  {
   "cell_type": "code",
   "execution_count": null,
   "id": "a5211d5e",
   "metadata": {},
   "outputs": [],
   "source": []
  }
 ],
 "metadata": {
  "kernelspec": {
   "display_name": "Python 3",
   "language": "python",
   "name": "python3"
  },
  "language_info": {
   "codemirror_mode": {
    "name": "ipython",
    "version": 3
   },
   "file_extension": ".py",
   "mimetype": "text/x-python",
   "name": "python",
   "nbconvert_exporter": "python",
   "pygments_lexer": "ipython3",
   "version": "3.9.2"
  }
 },
 "nbformat": 4,
 "nbformat_minor": 5
}
