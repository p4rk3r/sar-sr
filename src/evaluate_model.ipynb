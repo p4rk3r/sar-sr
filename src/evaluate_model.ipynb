{
 "cells": [
  {
   "cell_type": "code",
   "execution_count": 1,
   "id": "6f1151ef",
   "metadata": {},
   "outputs": [],
   "source": [
    "# import library\n",
    "import glob\n",
    "\n",
    "import cv2\n",
    "import torch\n",
    "import torch.nn as nn\n",
    "from skimage.metrics import peak_signal_noise_ratio, structural_similarity\n",
    "\n",
    "from src import consistency\n",
    "from src import option\n",
    "from src import sen12ms\n",
    "from src import utils\n",
    "\n",
    "from model import rcan\n",
    "from model import scan\n",
    "from model import srgan"
   ]
  },
  {
   "cell_type": "code",
   "execution_count": 2,
   "id": "46b0c247",
   "metadata": {},
   "outputs": [],
   "source": [
    "# define setting\n",
    "opt = option.Option()\n",
    "scale = 4\n",
    "cuda = True\n",
    "device = torch.device('cuda' if cuda else 'cpu')\n",
    "\n",
    "# create dataset\n",
    "dataset = sen12ms.Dataset(\n",
    "    data_dir=opt.test_dir,\n",
    "    scale=scale,\n",
    "    load_highs2=False,\n",
    "    mean=opt.sen12ms_mean,\n",
    "    std=opt.sen12ms_std,\n",
    ")"
   ]
  },
  {
   "cell_type": "code",
   "execution_count": 3,
   "id": "1d4707dc",
   "metadata": {},
   "outputs": [],
   "source": [
    "# function of loading model\n",
    "def load_model(timestamp, index, n_colors):\n",
    "    model_path = utils.find_model_file(timestamp, verbose=True)[index]\n",
    "    scale = 2 if '2x' in model_path else (4 if '4x' in model_path else (8 if '8x' in model_path else -1))\n",
    "    print('[{}] > {}'.format(index, model_path))\n",
    "\n",
    "    if 'rcan' in model_path:\n",
    "        model = rcan.RCAN(scale=scale, n_colors=n_colors, n_out_colors=1, act=nn.LeakyReLU(0.2, inplace=True))\n",
    "        model.load_state_dict(torch.load(model_path, map_location=device), strict=True)\n",
    "    elif 'scan' in model_path:\n",
    "        model = scan.SCAN(scale=scale, n_colors=n_colors, n_out_colors=1, act=nn.LeakyReLU(0.2, inplace=True))\n",
    "        model.load_state_dict(torch.load(model_path, map_location=device), strict=True)\n",
    "    elif 'srgan' in model_path:\n",
    "        model = srgan.Generator(in_channels=n_colors, out_channels=1)\n",
    "        model.load_state_dict(torch.load(model_path, map_location=device), strict=True)\n",
    "    \n",
    "    return model"
   ]
  },
  {
   "cell_type": "markdown",
   "id": "79de32d2",
   "metadata": {},
   "source": [
    "### Evaluate models"
   ]
  },
  {
   "cell_type": "code",
   "execution_count": 4,
   "id": "fc2f258f",
   "metadata": {},
   "outputs": [],
   "source": [
    "# list of models to be evaluated\n",
    "model_info_list = [\n",
    "    {'time': '20211218-154941_00062000', 'idx': 1, 'n_colors': 1},\n",
    "]"
   ]
  },
  {
   "cell_type": "code",
   "execution_count": 6,
   "id": "d234e0a0",
   "metadata": {},
   "outputs": [
    {
     "name": "stdout",
     "output_type": "stream",
     "text": [
      "\n",
      "1/1 (20211218-154941_00062000) ----------------------------------------\n",
      "Search for: /home/vit134/vit/sar_sr/model/*20211218-154941_00062000*.pth\n",
      "Not found\n",
      "Search for: /home/vit134/vit/sar_sr/model/*/*20211218-154941_00062000*.pth\n",
      "Found:\n",
      "/home/vit134/vit/sar_sr/model/full_dataset/rcan_4x_20211218-154941_00062000_d.pth\n",
      "/home/vit134/vit/sar_sr/model/full_dataset/rcan_4x_20211218-154941_00062000_g.pth\n",
      "[1] > /home/vit134/vit/sar_sr/model/full_dataset/rcan_4x_20211218-154941_00062000_g.pth\n",
      "[1041/1041]\n",
      "         PSNR    SSIM\n",
      "Nearest  21.6500 0.5003\n",
      "Bilinear 0.0000 0.0000\n",
      "Bicubic  0.0000 0.0000\n",
      "SR       0.0000 0.0000\n",
      "CR       21.6500 0.5003\n"
     ]
    }
   ],
   "source": [
    "# evaluate models\n",
    "for i, info in enumerate(model_info_list):\n",
    "    print('\\n{}/{} ({}) ----------------------------------------'.format(i+1, len(model_info_list), info['time']))\n",
    "    \n",
    "    model = load_model(timestamp=info['time'],\n",
    "                       index=info['idx'],\n",
    "                       n_colors=info['n_colors'],\n",
    "                       )\n",
    "    \n",
    "    _ = utils.test_metrics(model,\n",
    "                           dataset,\n",
    "                           shuffle=False,\n",
    "                           full_comparison=True,\n",
    "                           cuda=cuda,\n",
    "                           use_optical=(info['n_colors'] == 4),\n",
    "                           verbose=True,\n",
    "                           )"
   ]
  },
  {
   "cell_type": "markdown",
   "id": "3cd297e8",
   "metadata": {},
   "source": [
    "### Correct inconsistency"
   ]
  },
  {
   "cell_type": "code",
   "execution_count": 5,
   "id": "7195514d",
   "metadata": {},
   "outputs": [],
   "source": [
    "# define paths\n",
    "im_dir = '/home/vit134/vit/sar_sr/data/tmp'\n",
    "sr_path_regex = im_dir + '/*_SR.png'"
   ]
  },
  {
   "cell_type": "code",
   "execution_count": 6,
   "id": "ddfc48e8",
   "metadata": {
    "scrolled": false
   },
   "outputs": [
    {
     "name": "stdout",
     "output_type": "stream",
     "text": [
      "\n",
      "1/1 (20211221-135216_00054750) ----------------------------------------\n",
      "Search for: /home/vit134/vit/sar_sr/model/*20211221-135216_00054750*.pth\n",
      "Not found\n",
      "Search for: /home/vit134/vit/sar_sr/model/*/*20211221-135216_00054750*.pth\n",
      "Found:\n",
      "/home/vit134/vit/sar_sr/model/full_dataset/rcan_4x_20211221-135216_00054750_d.pth\n",
      "/home/vit134/vit/sar_sr/model/full_dataset/rcan_4x_20211221-135216_00054750_g.pth\n",
      "[1] > /home/vit134/vit/sar_sr/model/full_dataset/rcan_4x_20211221-135216_00054750_g.pth\n",
      "generating images\n",
      "calculating psnr and ssim [1040/1041]\n",
      "         PSNR    SSIM\n",
      "SR       23.4995 0.6393\n",
      "CR       23.4964 0.6387\n",
      "psnr up: 18, down: 1023\n",
      "ssim up: 7, down: 1034\n"
     ]
    }
   ],
   "source": [
    "# measure metrics of SR and corrected ims.\n",
    "for i, info in enumerate(model_info_list):\n",
    "    print('\\n{}/{} ({}) ----------------------------------------'.format(i+1, len(model_info_list), info['time']))\n",
    "    \n",
    "    n_test = len(dataset)\n",
    "    \n",
    "    # load model\n",
    "    model = load_model(\n",
    "        timestamp=info['time'],\n",
    "        index=info['idx'],\n",
    "        n_colors=info['n_colors'],\n",
    "        )\n",
    "    \n",
    "    # generate images and save to temporary directory\n",
    "    print('generating images')\n",
    "    utils.apply(\n",
    "        model=model,\n",
    "        dataset=dataset,\n",
    "        n_test=n_test,\n",
    "        shuffle=False,\n",
    "        full_comparison=False,\n",
    "        use_optical=(info['n_colors'] == 4),\n",
    "        cuda=cuda,\n",
    "        save_dir=im_dir,\n",
    "        show_im=False,\n",
    "        verbose=True,\n",
    "        )\n",
    "    \n",
    "    # glob image paths to be corrected\n",
    "    sr_paths = sorted(glob.glob(sr_path_regex))\n",
    "    \n",
    "    # correct average consistency\n",
    "    for i, path in enumerate(sr_paths):\n",
    "        print('\\rcorrecting inconsisntecy [{}/{}]'.format(i, len(sr_paths)), end='')\n",
    "        sr = cv2.imread(path, cv2.IMREAD_GRAYSCALE)\n",
    "        lr = cv2.imread(path.replace('SR', 'LR'), cv2.IMREAD_GRAYSCALE)\n",
    "        cr = consistency.correct(hr=sr, lr=lr, correction='ave_add_uniformly')\n",
    "        cv2.imwrite(path.replace('SR', 'CR'), cr)\n",
    "    \n",
    "    # calc psnr and ssim regarding sr and cr\n",
    "    result = {'sr': [0., 0.], 'cr': [0., 0.], 'count': [0, 0, 0, 0], }\n",
    "    for i, path in enumerate(sr_paths):\n",
    "        print('\\rcalculating psnr and ssim [{}/{}]'.format(i, len(sr_paths)), end='')\n",
    "        sr = cv2.imread(path, cv2.IMREAD_GRAYSCALE)\n",
    "        cr = cv2.imread(path.replace('SR', 'CR'), cv2.IMREAD_GRAYSCALE)\n",
    "        hr = cv2.imread(path.replace('SR', 'HR'), cv2.IMREAD_GRAYSCALE)\n",
    "        \n",
    "        p_sr = peak_signal_noise_ratio(sr, hr, data_range=255)\n",
    "        p_cr = peak_signal_noise_ratio(cr, hr, data_range=255)\n",
    "        result['sr'][0] += p_sr / n_test\n",
    "        result['cr'][0] += p_cr / n_test\n",
    "        s_sr = structural_similarity(sr, hr, data_range=255, multichannel=False)\n",
    "        s_cr = structural_similarity(cr, hr, data_range=255, multichannel=False)\n",
    "        result['sr'][1] += s_sr / n_test\n",
    "        result['cr'][1] += s_cr / n_test\n",
    "        \n",
    "        if p_cr > p_sr:\n",
    "            result['count'][0] += 1\n",
    "        elif p_cr < p_sr:\n",
    "            result['count'][1] += 1\n",
    "        if s_cr > s_sr:\n",
    "            result['count'][2] += 1\n",
    "        elif s_cr < s_sr:\n",
    "            result['count'][3] += 1\n",
    "    \n",
    "    # display result\n",
    "    print('\\n         PSNR    SSIM')\n",
    "    print('SR       {p_sr:.4f} {s_sr:.4f}\\n'\n",
    "          'CR       {p_cr:.4f} {s_cr:.4f}'\n",
    "          .format(p_sr=result['sr'][0], s_sr=result['sr'][1],\n",
    "                  p_cr=result['cr'][0], s_cr=result['cr'][1]))\n",
    "    \n",
    "    print('psnr up: {}, down: {}'.format(result['count'][0], result['count'][1]))\n",
    "    print('ssim up: {}, down: {}'.format(result['count'][2], result['count'][3]))"
   ]
  },
  {
   "cell_type": "code",
   "execution_count": 10,
   "id": "c5f49d5d",
   "metadata": {},
   "outputs": [],
   "source": []
  },
  {
   "cell_type": "code",
   "execution_count": null,
   "id": "1af0e2c0",
   "metadata": {},
   "outputs": [],
   "source": []
  }
 ],
 "metadata": {
  "kernelspec": {
   "display_name": "Python 3",
   "language": "python",
   "name": "python3"
  },
  "language_info": {
   "codemirror_mode": {
    "name": "ipython",
    "version": 3
   },
   "file_extension": ".py",
   "mimetype": "text/x-python",
   "name": "python",
   "nbconvert_exporter": "python",
   "pygments_lexer": "ipython3",
   "version": "3.9.2"
  }
 },
 "nbformat": 4,
 "nbformat_minor": 5
}
